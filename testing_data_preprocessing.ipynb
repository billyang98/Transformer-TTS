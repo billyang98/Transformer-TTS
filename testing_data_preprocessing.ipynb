{
 "cells": [
  {
   "cell_type": "code",
   "execution_count": 8,
   "metadata": {
    "collapsed": true
   },
   "outputs": [],
   "source": [
    "from text import text_to_sequence\n",
    "import eng_to_ipa as ipa"
   ]
  },
  {
   "cell_type": "code",
   "execution_count": 20,
   "metadata": {
    "collapsed": true
   },
   "outputs": [],
   "source": [
    "text = \"banana asldkf apple\""
   ]
  },
  {
   "cell_type": "code",
   "execution_count": 23,
   "metadata": {},
   "outputs": [
    {
     "name": "stdout",
     "output_type": "stream",
     "text": [
      "bəˈnænə asldkf* ˈæpəl\n"
     ]
    },
    {
     "data": {
      "text/plain": [
       "['b',\n",
       " 'ə',\n",
       " 'ˈ',\n",
       " 'n',\n",
       " 'æ',\n",
       " 'n',\n",
       " 'ə',\n",
       " ' ',\n",
       " 'a',\n",
       " 's',\n",
       " 'l',\n",
       " 'd',\n",
       " 'k',\n",
       " 'f',\n",
       " '*',\n",
       " ' ',\n",
       " 'ˈ',\n",
       " 'æ',\n",
       " 'p',\n",
       " 'ə',\n",
       " 'l']"
      ]
     },
     "execution_count": 23,
     "metadata": {},
     "output_type": "execute_result"
    }
   ],
   "source": [
    "phonemes = ipa.convert(text)\n",
    "print(phonemes)\n",
    "[c for c in phonemes]"
   ]
  },
  {
   "cell_type": "code",
   "execution_count": 24,
   "metadata": {},
   "outputs": [
    {
     "data": {
      "text/plain": [
       "[29, 55, 41, 28, 32, 41, 64, 28, 46, 39, 31, 38, 33, 64, 55, 28, 32, 43, 39, 1]"
      ]
     },
     "execution_count": 24,
     "metadata": {},
     "output_type": "execute_result"
    }
   ],
   "source": [
    "text_to_sequence(phonemes, ['english_cleaners'])"
   ]
  },
  {
   "cell_type": "code",
   "execution_count": null,
   "metadata": {
    "collapsed": true
   },
   "outputs": [],
   "source": []
  }
 ],
 "metadata": {
  "kernelspec": {
   "display_name": "speech",
   "language": "python",
   "name": "speech"
  },
  "language_info": {
   "codemirror_mode": {
    "name": "ipython",
    "version": 3
   },
   "file_extension": ".py",
   "mimetype": "text/x-python",
   "name": "python",
   "nbconvert_exporter": "python",
   "pygments_lexer": "ipython3",
   "version": "3.6.3"
  }
 },
 "nbformat": 4,
 "nbformat_minor": 2
}
