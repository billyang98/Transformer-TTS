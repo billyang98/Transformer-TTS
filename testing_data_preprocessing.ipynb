{
 "cells": [
  {
   "cell_type": "code",
   "execution_count": 8,
   "metadata": {
    "collapsed": true
   },
   "outputs": [],
   "source": [
    "from text import text_to_sequence\n",
    "import eng_to_ipa as ipa"
   ]
  },
  {
   "cell_type": "code",
   "execution_count": 17,
   "metadata": {
    "collapsed": true
   },
   "outputs": [],
   "source": [
    "text = \"banana\""
   ]
  },
  {
   "cell_type": "code",
   "execution_count": 19,
   "metadata": {},
   "outputs": [
    {
     "name": "stdout",
     "output_type": "stream",
     "text": [
      "[['bəˈnænə']]\n"
     ]
    },
    {
     "data": {
      "text/plain": [
       "[['bəˈnænə']]"
      ]
     },
     "execution_count": 19,
     "metadata": {},
     "output_type": "execute_result"
    }
   ],
   "source": [
    "phonemes = ipa.ipa_list(text)\n",
    "print(phonemes)\n",
    "[c for c in phonemes]"
   ]
  },
  {
   "cell_type": "code",
   "execution_count": 16,
   "metadata": {},
   "outputs": [
    {
     "data": {
      "text/plain": [
       "[32, 40, 42, 37, 36, 1]"
      ]
     },
     "execution_count": 16,
     "metadata": {},
     "output_type": "execute_result"
    }
   ],
   "source": [
    "text_to_sequence(phonemes, ['english_cleaners'])"
   ]
  },
  {
   "cell_type": "code",
   "execution_count": 7,
   "metadata": {},
   "outputs": [
    {
     "data": {
      "text/plain": [
       "[31,\n",
       " 64,\n",
       " 38,\n",
       " 50,\n",
       " 36,\n",
       " 38,\n",
       " 64,\n",
       " 29,\n",
       " 45,\n",
       " 28,\n",
       " 48,\n",
       " 41,\n",
       " 64,\n",
       " 33,\n",
       " 28,\n",
       " 38,\n",
       " 46,\n",
       " 64,\n",
       " 31,\n",
       " 53,\n",
       " 40,\n",
       " 43,\n",
       " 47,\n",
       " 64,\n",
       " 55,\n",
       " 42,\n",
       " 48,\n",
       " 49,\n",
       " 45,\n",
       " 64,\n",
       " 31,\n",
       " 64,\n",
       " 55,\n",
       " 39,\n",
       " 32,\n",
       " 36,\n",
       " 53,\n",
       " 36,\n",
       " 64,\n",
       " 31,\n",
       " 42,\n",
       " 34,\n",
       " 1]"
      ]
     },
     "execution_count": 7,
     "metadata": {},
     "output_type": "execute_result"
    }
   ],
   "source": [
    "text_to_sequence(\"ðə kwɪk braʊn fɑks ʤəmpt ˈoʊvər ðə ˈleɪzi dɔg\", ['english_cleaners'])"
   ]
  },
  {
   "cell_type": "code",
   "execution_count": null,
   "metadata": {
    "collapsed": true
   },
   "outputs": [],
   "source": []
  }
 ],
 "metadata": {
  "kernelspec": {
   "display_name": "speech",
   "language": "python",
   "name": "speech"
  },
  "language_info": {
   "codemirror_mode": {
    "name": "ipython",
    "version": 3
   },
   "file_extension": ".py",
   "mimetype": "text/x-python",
   "name": "python",
   "nbconvert_exporter": "python",
   "pygments_lexer": "ipython3",
   "version": "3.6.3"
  }
 },
 "nbformat": 4,
 "nbformat_minor": 2
}
